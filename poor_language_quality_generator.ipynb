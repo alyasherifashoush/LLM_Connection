{
 "cells": [
  {
   "cell_type": "code",
   "execution_count": 1,
   "id": "c0294636",
   "metadata": {},
   "outputs": [],
   "source": [
    "from openai import OpenAI"
   ]
  },
  {
   "cell_type": "code",
   "execution_count": 2,
   "id": "f55dc9b4",
   "metadata": {},
   "outputs": [],
   "source": [
    "# Connection parameters (only has to be executed once during a session)\n",
    "\n",
    "# Note: `localhost` is only valid as long as you are logged in on madagaskarweihe. \n",
    "# Otherwise, you will need to perform port forwarding on your machine using `ssh -fNL 8006:127.0.0.1:8006 ashousaa@madagaskarweihe`.\n",
    "# This might require an ssh key to be uploaded to madagaskarweihe first.\n",
    "VLLM_API_ENDPOINT = 'http://localhost:8006/v1' \n",
    "VLLM_KEY = 's7Vtzeyq3kfhVkPhlWdL95pPRBq36KDP1d5bBj54BqQ'\n",
    "MODEL = \"default\""
   ]
  },
  {
   "cell_type": "code",
   "execution_count": 3,
   "id": "3ba9c6d2",
   "metadata": {},
   "outputs": [],
   "source": [
    "# Connection to LLM server (only has to be executed once during a session)\n",
    "client = OpenAI(api_key=VLLM_KEY,\n",
    "                base_url=VLLM_API_ENDPOINT)"
   ]
  },
  {
   "cell_type": "code",
   "execution_count": 8,
   "id": "a60d146f",
   "metadata": {},
   "outputs": [],
   "source": [
    "import csv\n",
    "\n",
    "# Read the CSV with questions, answers, and chunks\n",
    "with open('modified_final_test_set.csv', 'r', encoding='utf-8') as infile, open('poor_language_answers.csv', 'w', newline='', encoding='utf-8') as outfile:\n",
    "    reader = csv.DictReader(infile)\n",
    "    fieldnames = ['Question', 'Bad_Answer', 'Chunk']  # Columns to output\n",
    "    writer = csv.DictWriter(outfile, fieldnames=fieldnames)\n",
    "    writer.writeheader()\n",
    "    \n",
    "    for row in reader:\n",
    "        question = row['Question']\n",
    "        answer = row['Answer']\n",
    "        chunk = row['Chunk']\n",
    "        \n",
    "        # Generate bad version of the answer using GPT-4\n",
    "        messages = [\n",
    "            {\n",
    "                \"role\": \"system\",\n",
    "                \"content\": (\n",
    "                    \"You are an assistant that gives plausible but poor-quality answers. \"\n",
    "                    \"Rewrite the given answer so that it seems like it's trying to help but is actually:\\n\"\n",
    "                    \"- Incoherent: The ideas should not flow logically or clearly.\\n\"\n",
    "                    \"- Unclear: Use vague, ambiguous, or overly complex language.\\n\"\n",
    "                    \"- Verbose: Include redundant or off-topic information.\\n\"\n",
    "                    \"DO NOT include any introductory phrases, disclaimers, or meta comments like 'Here is a bad answer' or 'As requested'. \"\n",
    "                    \"Only return the poorly written answer directly, with no additional commentary.\"\n",
    "                )\n",
    "            },\n",
    "            {\n",
    "                \"role\": \"user\",\n",
    "                \"content\": f\"Rewrite this answer badly:\\n\\n{answer}\"\n",
    "            }\n",
    "        ]\n",
    "        \n",
    "        response = client.chat.completions.create(\n",
    "            model=MODEL,  \n",
    "            messages=messages,\n",
    "            temperature=0.7, \n",
    "            max_tokens=200\n",
    "        )\n",
    "\n",
    "        # Extract the \"bad\" answer from the response\n",
    "        bad_answer = response.choices[0].message.content.strip()\n",
    "\n",
    "        # Write the new row with the question, bad answer, and chunk to the new CSV file\n",
    "        writer.writerow({\n",
    "            'Question': question,\n",
    "            'Bad_Answer': bad_answer,\n",
    "            'Chunk': chunk\n",
    "        })\n"
   ]
  }
 ],
 "metadata": {
  "kernelspec": {
   "display_name": ".env",
   "language": "python",
   "name": "python3"
  },
  "language_info": {
   "codemirror_mode": {
    "name": "ipython",
    "version": 3
   },
   "file_extension": ".py",
   "mimetype": "text/x-python",
   "name": "python",
   "nbconvert_exporter": "python",
   "pygments_lexer": "ipython3",
   "version": "3.13.3"
  }
 },
 "nbformat": 4,
 "nbformat_minor": 5
}
